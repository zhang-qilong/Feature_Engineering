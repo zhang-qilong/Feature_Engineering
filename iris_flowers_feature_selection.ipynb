{
 "cells": [
  {
   "cell_type": "code",
   "execution_count": 190,
   "metadata": {},
   "outputs": [
    {
     "name": "stdout",
     "output_type": "stream",
     "text": [
      "Package import finish!\n"
     ]
    }
   ],
   "source": [
    "from sklearn.feature_selection import SelectFromModel\n",
    "from sklearn.datasets import load_iris\n",
    "from sklearn.linear_model import LogisticRegression\n",
    "from sklearn.ensemble import GradientBoostingClassifier\n",
    "from sklearn.model_selection import train_test_split\n",
    "from sklearn.metrics import accuracy_score\n",
    "print('Package import finish!')"
   ]
  },
  {
   "cell_type": "code",
   "execution_count": 191,
   "metadata": {},
   "outputs": [
    {
     "name": "stdout",
     "output_type": "stream",
     "text": [
      "(112, 4) (38, 4) (112,) (38,)\n"
     ]
    }
   ],
   "source": [
    "dataset = load_iris()\n",
    "X_train, X_test, y_train, y_test = train_test_split(dataset.data, dataset.target, test_size=0.25, random_state=0, shuffle=True)\n",
    "print(X_train.shape, X_test.shape, y_train.shape, y_test.shape)"
   ]
  },
  {
   "cell_type": "code",
   "execution_count": 192,
   "metadata": {},
   "outputs": [
    {
     "name": "stdout",
     "output_type": "stream",
     "text": [
      "Test accuracy: 97.37%\n"
     ]
    }
   ],
   "source": [
    "# train model\n",
    "model = GradientBoostingClassifier(n_estimators=3)\n",
    "model.fit(X_train, y_train)\n",
    "prediction = model.predict(X_test)\n",
    "accuracy = accuracy_score(y_test, prediction)\n",
    "print(\"Test accuracy: {:.2%}\".format(accuracy))"
   ]
  },
  {
   "cell_type": "code",
   "execution_count": 193,
   "metadata": {},
   "outputs": [
    {
     "name": "stdout",
     "output_type": "stream",
     "text": [
      "Importance of each dim feature:  [0.00792236 0.01011956 0.24604624 0.73591184]\n"
     ]
    }
   ],
   "source": [
    "selector = SelectFromModel(estimator=GradientBoostingClassifier()).fit(dataset.data, dataset.target)\n",
    "print('Importance of each dim feature: ', selector.estimator_.feature_importances_)"
   ]
  },
  {
   "cell_type": "code",
   "execution_count": 194,
   "metadata": {},
   "outputs": [
    {
     "name": "stdout",
     "output_type": "stream",
     "text": [
      "Importance of each dim feature:  [0.00235159 0.02163502 0.65915741 0.31685598]\n"
     ]
    }
   ],
   "source": [
    "selector = SelectFromModel(estimator=GradientBoostingClassifier()).fit(X_train, y_train)\n",
    "print('Importance of each dim feature: ', selector.estimator_.feature_importances_)"
   ]
  },
  {
   "cell_type": "code",
   "execution_count": 195,
   "metadata": {},
   "outputs": [
    {
     "name": "stdout",
     "output_type": "stream",
     "text": [
      "Thresh=0.000, feature_num=4, Accuracy: 97.37%\n",
      "Thresh=0.006, feature_num=3, Accuracy: 97.37%\n",
      "Thresh=0.020, feature_num=2, Accuracy: 97.37%\n",
      "Thresh=0.300, feature_num=1, Accuracy: 89.47%\n"
     ]
    }
   ],
   "source": [
    "for i in [0, 0.006, 0.02, 0.3]:\n",
    "                    # select features using threshold\n",
    "\t# model is a pretrian model, each train don't change the model weight\n",
    "\tselection = SelectFromModel(model, threshold=i, prefit=True)\n",
    "\tselect_X_train = selection.transform(X_train)\n",
    "\t# train model\n",
    "\tselection_model = GradientBoostingClassifier(n_estimators=3)\n",
    "\tselection_model.fit(select_X_train, y_train)\n",
    "\t# eval model\n",
    "\tselect_X_test = selection.transform(X_test)\n",
    "\tpredictions = selection_model.predict(select_X_test)\n",
    "\taccuracy = accuracy_score(y_test, predictions)\n",
    "\tprint(\"Thresh=%.3f, feature_num=%d, Accuracy: %.2f%%\" % (i, select_X_train.shape[1], accuracy*100.0))"
   ]
  }
 ],
 "metadata": {
  "kernelspec": {
   "display_name": "pytorch_2.0",
   "language": "python",
   "name": "python3"
  },
  "language_info": {
   "codemirror_mode": {
    "name": "ipython",
    "version": 3
   },
   "file_extension": ".py",
   "mimetype": "text/x-python",
   "name": "python",
   "nbconvert_exporter": "python",
   "pygments_lexer": "ipython3",
   "version": "3.8.16"
  },
  "orig_nbformat": 4
 },
 "nbformat": 4,
 "nbformat_minor": 2
}
