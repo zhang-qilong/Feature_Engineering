{
 "cells": [
  {
   "cell_type": "code",
   "execution_count": 2,
   "metadata": {},
   "outputs": [],
   "source": [
    "from sklearn.feature_selection import chi2\n",
    "from sklearn.feature_selection import SelectKBest\n",
    "from sklearn.datasets import load_iris"
   ]
  },
  {
   "cell_type": "code",
   "execution_count": 3,
   "metadata": {},
   "outputs": [
    {
     "name": "stdout",
     "output_type": "stream",
     "text": [
      "Origin feature example:  [[5.1 3.5 1.4 0.2]\n",
      " [4.9 3.  1.4 0.2]\n",
      " [4.7 3.2 1.3 0.2]\n",
      " [4.6 3.1 1.5 0.2]\n",
      " [5.  3.6 1.4 0.2]]\n"
     ]
    }
   ],
   "source": [
    "iris = load_iris()\n",
    "print('Origin feature example: ', iris.data[0:5])  # 鸢尾花数据集数据包含四个特征"
   ]
  },
  {
   "cell_type": "code",
   "execution_count": 4,
   "metadata": {},
   "outputs": [
    {
     "name": "stdout",
     "output_type": "stream",
     "text": [
      "New feature example:  [[1.4 0.2]\n",
      " [1.4 0.2]\n",
      " [1.3 0.2]\n",
      " [1.5 0.2]\n",
      " [1.4 0.2]]\n"
     ]
    }
   ],
   "source": [
    "selector = SelectKBest(chi2, k=2).fit(iris.data, iris.target)  # 过滤两个最优特征\n",
    "new_data = selector.transform(iris.data)\n",
    "print('New feature example: ', new_data[0:5])  # 降维后的特征"
   ]
  },
  {
   "cell_type": "code",
   "execution_count": 5,
   "metadata": {},
   "outputs": [
    {
     "name": "stdout",
     "output_type": "stream",
     "text": [
      "Score of each dim feature:  [ 10.81782088   3.7107283  116.31261309  67.0483602 ]\n"
     ]
    }
   ],
   "source": [
    "print('Score of each dim feature: ', selector.scores_)  # 输出每一个维度特征的得分"
   ]
  },
  {
   "cell_type": "code",
   "execution_count": 47,
   "metadata": {},
   "outputs": [],
   "source": [
    "from sklearn.feature_selection import RFE\n",
    "from sklearn.linear_model import LogisticRegression  # 基模型\n",
    "from sklearn.datasets import load_iris\n",
    "import logging\n",
    "iris = load_iris()"
   ]
  },
  {
   "cell_type": "code",
   "execution_count": 54,
   "metadata": {},
   "outputs": [
    {
     "name": "stdout",
     "output_type": "stream",
     "text": [
      "New feature example:  [[1.4 0.2]\n",
      " [1.4 0.2]\n",
      " [1.3 0.2]\n",
      " [1.5 0.2]\n",
      " [1.4 0.2]]\n"
     ]
    }
   ],
   "source": [
    "logging.getLogger().setLevel(logging.WARNING)\n",
    "model = LogisticRegression(n_jobs=3)\n",
    "selector = RFE(estimator=model, n_features_to_select=2).fit(iris.data, iris.target)\n",
    "data = selector.transform(iris.data)\n",
    "print('New feature example: ', data[0:5])  # 降维后的特征"
   ]
  },
  {
   "cell_type": "code",
   "execution_count": 55,
   "metadata": {},
   "outputs": [
    {
     "name": "stdout",
     "output_type": "stream",
     "text": [
      "Rank of feature:  [3 2 1 1]\n"
     ]
    }
   ],
   "source": [
    "print('Rank of feature: ', selector.ranking_)"
   ]
  },
  {
   "cell_type": "code",
   "execution_count": 57,
   "metadata": {},
   "outputs": [],
   "source": [
    "from sklearn.feature_selection import SelectFromModel\n",
    "from sklearn.ensemble import GradientBoostingClassifier  # 基模型\n",
    "from sklearn.datasets import load_iris\n",
    "iris = load_iris()"
   ]
  },
  {
   "cell_type": "code",
   "execution_count": 58,
   "metadata": {},
   "outputs": [
    {
     "name": "stdout",
     "output_type": "stream",
     "text": [
      "New feature example:  [[1.4 0.2]\n",
      " [1.4 0.2]\n",
      " [1.3 0.2]\n",
      " [1.5 0.2]\n",
      " [1.4 0.2]]\n"
     ]
    }
   ],
   "source": [
    "selector = SelectFromModel(estimator=GradientBoostingClassifier()).fit(iris.data, iris.target)\n",
    "data = selector.transform(iris.data)\n",
    "print('New feature example: ', data[0:5])  # 降维后的特征"
   ]
  },
  {
   "cell_type": "code",
   "execution_count": 59,
   "metadata": {},
   "outputs": [
    {
     "name": "stdout",
     "output_type": "stream",
     "text": [
      "Importance of each dim feature:  [0.00597287 0.01282788 0.30699283 0.67420641]\n"
     ]
    }
   ],
   "source": [
    "print('Importance of each dim feature: ', selector.estimator_.feature_importances_)"
   ]
  },
  {
   "cell_type": "code",
   "execution_count": 60,
   "metadata": {},
   "outputs": [
    {
     "data": {
      "image/png": "[encoded data removed]",
      "text/plain": [
       "<Figure size 640x480 with 1 Axes>"
      ]
     },
     "metadata": {},
     "output_type": "display_data"
    }
   ],
   "source": [
    "import pandas as pd\n",
    "import numpy as np\n",
    "import matplotlib.pyplot as plt\n",
    "feature_list = ['feature_1', 'feature_2','feature_3','feature_4']\n",
    "df = pd.DataFrame(selector.estimator_.feature_importances_)\n",
    "\n",
    "# df.sort_values()\n",
    "for i in range(4): \n",
    "        plt.barh(feature_list[i], selector.estimator_.feature_importances_[i])\n",
    "plt.ylabel('feature')\n",
    "plt.xlabel('importance value')\n",
    "plt.show();"
   ]
  }
 ],
 "metadata": {
  "kernelspec": {
   "display_name": "pytorch_2.0",
   "language": "python",
   "name": "python3"
  },
  "language_info": {
   "codemirror_mode": {
    "name": "ipython",
    "version": 3
   },
   "file_extension": ".py",
   "mimetype": "text/x-python",
   "name": "python",
   "nbconvert_exporter": "python",
   "pygments_lexer": "ipython3",
   "version": "3.8.16"
  },
  "orig_nbformat": 4
 },
 "nbformat": 4,
 "nbformat_minor": 2
}
